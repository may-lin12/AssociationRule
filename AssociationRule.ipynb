{
 "cells": [
  {
   "cell_type": "markdown",
   "metadata": {},
   "source": [
    "### pip install apyori "
   ]
  },
  {
   "cell_type": "code",
   "execution_count": 1,
   "metadata": {},
   "outputs": [],
   "source": [
    "import numpy as np\n",
    "import pandas as pd\n",
    "import csv \n",
    "from apyori import apriori "
   ]
  },
  {
   "cell_type": "code",
   "execution_count": 2,
   "metadata": {},
   "outputs": [
    {
     "name": "stdout",
     "output_type": "stream",
     "text": [
      "[['@relation CreditCardPromotion'], [], [\"@attribute 'Income Range' {20-30000\", ' 30-40000', ' 40-50000', ' 50-60000}'], [\"@attribute 'Magazine Promotion' {Yes\", ' No}'], [\"@attribute 'Credit Card Insurance' {Yes\", ' No}'], [\"@attribute 'Sex' {Male\", ' Female} '], [], ['@data'], ['40-50000', 'Yes', 'No', 'Male'], ['30-40000', 'Yes', 'No', 'Female'], ['40-50000', 'No', 'No', 'Male'], ['20-30000', 'Yes', 'Yes', 'Male'], ['50-60000', 'Yes', 'No', 'Female'], ['20-30000', 'No', 'No', 'Female'], ['30-40000', 'Yes', 'Yes', 'Male'], ['20-30000', 'No', 'No', 'Male'], ['30-40000', 'Yes', 'No', 'Male'], ['30-40000', 'Yes', 'No', 'Female']]\n"
     ]
    }
   ],
   "source": [
    "with open('CreditCardPromotion.csv', 'r') as csvfile:\n",
    "  data = csv.reader(csvfile)\n",
    "  data_list = list(data)\n",
    "\n",
    "print(data_list)"
   ]
  },
  {
   "cell_type": "code",
   "execution_count": 4,
   "metadata": {},
   "outputs": [
    {
     "name": "stdout",
     "output_type": "stream",
     "text": [
      "             items   support                             ordered_statistics\n",
      "0  (30-40000, Yes)  0.222222  [((30-40000), (Yes), 1.0, 2.571428571428571)]\n",
      "1     (No, Female)  0.222222                  [((Female), (No), 1.0, 2.25)]\n"
     ]
    }
   ],
   "source": [
    "result=(list(apriori(data_list, min_support=0.2, min_confidence=0.9)))\n",
    "df=pd.DataFrame(result)\n",
    "df.to_csv(\"appriori.csv\") \n",
    "print(df.head(10)) "
   ]
  },
  {
   "cell_type": "code",
   "execution_count": 5,
   "metadata": {},
   "outputs": [
    {
     "name": "stdout",
     "output_type": "stream",
     "text": [
      "             items   support\n",
      "0  (30-40000, Yes)  0.222222\n",
      "1     (No, Female)  0.222222\n"
     ]
    }
   ],
   "source": [
    "print(df.iloc[:][['items','support']])"
   ]
  },
  {
   "cell_type": "code",
   "execution_count": 6,
   "metadata": {},
   "outputs": [
    {
     "data": {
      "text/html": [
       "<div>\n",
       "<style scoped>\n",
       "    .dataframe tbody tr th:only-of-type {\n",
       "        vertical-align: middle;\n",
       "    }\n",
       "\n",
       "    .dataframe tbody tr th {\n",
       "        vertical-align: top;\n",
       "    }\n",
       "\n",
       "    .dataframe thead th {\n",
       "        text-align: right;\n",
       "    }\n",
       "</style>\n",
       "<table border=\"1\" class=\"dataframe\">\n",
       "  <thead>\n",
       "    <tr style=\"text-align: right;\">\n",
       "      <th></th>\n",
       "      <th>items</th>\n",
       "      <th>support</th>\n",
       "      <th>ordered_statistics</th>\n",
       "    </tr>\n",
       "  </thead>\n",
       "  <tbody>\n",
       "    <tr>\n",
       "      <th>0</th>\n",
       "      <td>(30-40000, Yes)</td>\n",
       "      <td>0.222222</td>\n",
       "      <td>[((30-40000), (Yes), 1.0, 2.571428571428571)]</td>\n",
       "    </tr>\n",
       "    <tr>\n",
       "      <th>1</th>\n",
       "      <td>(No, Female)</td>\n",
       "      <td>0.222222</td>\n",
       "      <td>[((Female), (No), 1.0, 2.25)]</td>\n",
       "    </tr>\n",
       "  </tbody>\n",
       "</table>\n",
       "</div>"
      ],
      "text/plain": [
       "             items   support                             ordered_statistics\n",
       "0  (30-40000, Yes)  0.222222  [((30-40000), (Yes), 1.0, 2.571428571428571)]\n",
       "1     (No, Female)  0.222222                  [((Female), (No), 1.0, 2.25)]"
      ]
     },
     "execution_count": 6,
     "metadata": {},
     "output_type": "execute_result"
    }
   ],
   "source": [
    "df.sort_values(by='support',ascending=False)"
   ]
  },
  {
   "cell_type": "code",
   "execution_count": null,
   "metadata": {},
   "outputs": [],
   "source": []
  },
  {
   "cell_type": "code",
   "execution_count": null,
   "metadata": {},
   "outputs": [],
   "source": []
  },
  {
   "cell_type": "code",
   "execution_count": null,
   "metadata": {},
   "outputs": [],
   "source": []
  }
 ],
 "metadata": {
  "kernelspec": {
   "display_name": "Python 3",
   "language": "python",
   "name": "python3"
  },
  "language_info": {
   "codemirror_mode": {
    "name": "ipython",
    "version": 3
   },
   "file_extension": ".py",
   "mimetype": "text/x-python",
   "name": "python",
   "nbconvert_exporter": "python",
   "pygments_lexer": "ipython3",
   "version": "3.6.8"
  }
 },
 "nbformat": 4,
 "nbformat_minor": 2
}
